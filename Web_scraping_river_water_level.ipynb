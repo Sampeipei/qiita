{
 "cells": [
  {
   "cell_type": "code",
   "execution_count": 53,
   "metadata": {},
   "outputs": [],
   "source": [
    "from bs4 import BeautifulSoup\n",
    "from selenium import webdriver\n",
    "import pandas as pd"
   ]
  },
  {
   "cell_type": "code",
   "execution_count": 94,
   "metadata": {},
   "outputs": [],
   "source": [
    "def scrapeWaterLevel(station_id, start_date, end_date, time_interval=20):\n",
    "    \"\"\"\n",
    "    水文水質データベースから指定の水位観測局にから指定期間のデータをスクレイオイングする\n",
    "    水文水質データベースURL: http://www1.river.go.jp/\n",
    "    Args:\n",
    "        sation_id  (int): 観測局のID \n",
    "        start_date　　　 : 取得開始日時 (形式はYY/mm/dd)\n",
    "        end_date　　　   : 取得終了日時 (形式はYY/mm/dd)\n",
    "    Returns:\n",
    "        df_river (pandas.dataFrame): スクレイピングしたデータのDataFrame\n",
    "    \"\"\"\n",
    "    # URLのベースを宣言 (ID, 開始日時, 終了日時を指定できる様にする)\n",
    "    url = 'http://www1.river.go.jp/cgi-bin/DspWaterData.exe?KIND=1&ID={0}&BGNDATE={1}&ENDDATE={2}&KAWABOU=NO'\n",
    "    # 日時配列の生成\n",
    "    date_list = fetchDateList(start_date, end_date, time_interval=20)\n",
    "    # 日時配列でループ\n",
    "    wl_data_list = []\n",
    "    for date in date_list:\n",
    "        begin, end = date[0], date[1]\n",
    "        url_tmp = url.format(station_id, begin, end)\n",
    "        wl_data = subtractWlData(url_tmp)\n",
    "        # データが存在しない場合には次のループへ\n",
    "        if wl_data is None:\n",
    "            continue\n",
    "        wl_data_list += wl_data\n",
    "    # 配列をDataFrameに変換\n",
    "    df_wl = list2dataframe(wl_data_list)\n",
    "    return df_wl"
   ]
  },
  {
   "cell_type": "code",
   "execution_count": 7,
   "metadata": {
    "code_folding": []
   },
   "outputs": [],
   "source": [
    "import datetime\n",
    "\n",
    "def fetchDateList(start_date, end_date, time_interval=20):\n",
    "    \"\"\"\n",
    "    水文水質データベースからデータを取得するための開始時刻と終了後に時刻の配列を作成。\n",
    "    time_intervalで指定された時間間隔で配列を生成する\n",
    "    Args:\n",
    "        start_date　　　 : 取得開始日時 (形式はYY/mm/dd)\n",
    "        end_date　　　   : 取得終了日時 (形式はYY/mm/dd)\n",
    "    Returns:\n",
    "        date_list (list): 取得対象期間の配列\n",
    "    \"\"\"\n",
    "    # String形式の日時をdatetimeに変換\n",
    "    start_datetime = datetime.datetime.strptime(start_date, \"%Y/%m/%d\")\n",
    "    end_datetime = datetime.datetime.strptime(end_date, \"%Y/%m/%d\")\n",
    "    \n",
    "    end_flag = False\n",
    "    proceeded_date = 0\n",
    "    date_list = []\n",
    "    \n",
    "    while(not end_flag):\n",
    "        # データの取得開始時間と終了後時間を生成\n",
    "        search_bgn_datetime = start_datetime + datetime.timedelta(days=proceeded_date)\n",
    "        search_end_datetime = start_datetime + datetime.timedelta(days=proceeded_date + time_interval -1)\n",
    "        # time_interval分の余地がない場合にend_flagをTrueに設定し次回ループに突入しない様にする\n",
    "        if search_end_datetime >= end_datetime:\n",
    "            search_end_datetime = end_datetime\n",
    "            end_flag = True\n",
    "        proceeded_date += time_interval\n",
    "        date_list.append([search_bgn_datetime.strftime(\"%Y%m%d\"), search_end_datetime.strftime(\"%Y%m%d\")])\n",
    "    \n",
    "    return date_list"
   ]
  },
  {
   "cell_type": "code",
   "execution_count": 42,
   "metadata": {},
   "outputs": [],
   "source": [
    "def subtractWlData(url):\n",
    "    \"\"\"\n",
    "    指定URLから水位データを抽出し配列を返す。\n",
    "    Args:\n",
    "        url (String): データ取得する先のURL\n",
    "    Returns:\n",
    "        wl_data_list (list): 水位データの配列\n",
    "    \"\"\"\n",
    "    try: \n",
    "        # Driverの生成とURLで指定のページを操作を行う\n",
    "        driver = createDriver()\n",
    "        driver.get(url)\n",
    "        # 水位データを取得するためにifrmaを取得\n",
    "        iframe = driver.find_element_by_tag_name('iframe')\n",
    "        driver.switch_to.frame(iframe)\n",
    "        # iframeのソースを取得し表データの'tr'タグを全て取得する\n",
    "        soup = BeautifulSoup(driver.page_source, 'html.parser')\n",
    "        table = soup.findAll(\"table\")[0]\n",
    "        rows = table.findAll(\"tr\")\n",
    "        driver.close()\n",
    "    except:\n",
    "        return None\n",
    "    \n",
    "    # tableから水位データの配列を生成\n",
    "    wl_data_list = []\n",
    "    for row in rows:\n",
    "        list_tmp = []\n",
    "        td_list = row.findAll(['td'])\n",
    "        for td in td_list:\n",
    "            list_tmp.append(td.get_text().replace('\\u3000', ''))\n",
    "        wl_data_list.append(list_tmp)\n",
    "    \n",
    "    return wl_data_list"
   ]
  },
  {
   "cell_type": "code",
   "execution_count": 22,
   "metadata": {},
   "outputs": [],
   "source": [
    "def createDriver():\n",
    "    \"\"\"\n",
    "    Seleniumでブラウザ操作を行うためのドライバを生成する\n",
    "    Args:\n",
    "        None\n",
    "    Returns:\n",
    "        driver (selenium.webdriver.remote.webdriver.WebDriver):\n",
    "            SeleniumでChromeを操作するためのドライバ\n",
    "    \"\"\"\n",
    "    # Chrome のオプションを設定する\n",
    "    options = webdriver.ChromeOptions()\n",
    "    options.add_argument('--headless')\n",
    "\n",
    "    # Selenium Server に接続する\n",
    "    driver = webdriver.Remote(\n",
    "        command_executor='http://localhost:4444/wd/hub',\n",
    "        desired_capabilities=options.to_capabilities(),\n",
    "        options=options)\n",
    "    \n",
    "    return driver"
   ]
  },
  {
   "cell_type": "code",
   "execution_count": 98,
   "metadata": {
    "code_folding": []
   },
   "outputs": [],
   "source": [
    "def list2dataframe(wl_list):\n",
    "    \"\"\"\n",
    "    スクレイピングで取得してした配列をDataFrameに変換する\n",
    "    Args:\n",
    "        wl_list (list): 取得した水位データの配列。[日付, 時間, 水位]の項目順を前提としている。\n",
    "    Returns:\n",
    "        df_wl (pandas.DataFrame): 配列をDataFrameへの変換後の水位データ\n",
    "    \"\"\"\n",
    "    # 配列をPandasに変換し日付と時刻を結合する\n",
    "    df_wl = pd.DataFrame(wl_list,columns=['date', 'time', 'water_lev'])\n",
    "    df_wl.loc[:,'date'] = df_wl.loc[:,'date'] + ' ' + df_wl.loc[:,'time']\n",
    "    df_wl.drop('time', axis=1, inplace=True)\n",
    "    df_wl.dropna(how='all', inplace=True)\n",
    "    \n",
    "    # 'time'をdatetime型に'水位'をfloat型に変換する\n",
    "    df_wl['date'] = df_wl['date'].astype('str').apply(str2datetime)\n",
    "    df_wl['water_lev'] = pd.to_numeric(df_wl['water_lev'], errors='coerce')\n",
    "    df_wl.set_index('date', inplace=True)\n",
    "    df_wl.sort_index(inplace=True)\n",
    "    \n",
    "    return df_wl"
   ]
  },
  {
   "cell_type": "code",
   "execution_count": 90,
   "metadata": {},
   "outputs": [],
   "source": [
    "def str2datetime(string):\n",
    "    \"\"\"\n",
    "    Stringの日時データをdatetime型に変換する。\n",
    "    'YYYY/MM/DD 24:00'表記の日時を'YYYY/MM/DD+1 00:00'に変換する。\n",
    "    Args:\n",
    "        string (String): 日時の文字列。'YYYY/MM/DD HH:mm'の表記を前提とする。\n",
    "    Returns:\n",
    "        date (datetime.datetime): 日時のdatetime変換後の形式\n",
    "    \"\"\"\n",
    "    if string[-5:] == '24:00':\n",
    "        string = string[:-5] + ' ' + '00:00'\n",
    "        date = datetime.datetime.strptime(string, \"%Y/%m/%d %H:%M\")\n",
    "        date += datetime.timedelta(days=1)\n",
    "    else:\n",
    "        date = datetime.datetime.strptime(string, \"%Y/%m/%d %H:%M\")\n",
    "    return date"
   ]
  },
  {
   "cell_type": "code",
   "execution_count": 105,
   "metadata": {},
   "outputs": [],
   "source": [
    "# データの取得\n",
    "start_date_test = '1990/01/01'\n",
    "end_date_test = '2020/01/01'\n",
    "station_id = 303051283310020\n",
    "\n",
    "wl_data_list_test = scrapeWaterLevel(station_id, start_date_test, end_date_test)"
   ]
  },
  {
   "cell_type": "code",
   "execution_count": 106,
   "metadata": {},
   "outputs": [
    {
     "data": {
      "text/plain": [
       "<matplotlib.axes._subplots.AxesSubplot at 0x1290251d0>"
      ]
     },
     "execution_count": 106,
     "metadata": {},
     "output_type": "execute_result"
    },
    {
     "data": {
      "image/png": "[encoded data removed]",
      "text/plain": [
       "<Figure size 432x288 with 1 Axes>"
      ]
     },
     "metadata": {
      "needs_background": "light"
     },
     "output_type": "display_data"
    }
   ],
   "source": [
    "wl_data_list_test.plot()"
   ]
  },
  {
   "cell_type": "code",
   "execution_count": 107,
   "metadata": {},
   "outputs": [
    {
     "name": "stdout",
     "output_type": "stream",
     "text": [
      "<class 'pandas.core.frame.DataFrame'>\n",
      "DatetimeIndex: 260832 entries, 1990-01-01 01:00:00 to 2020-01-02 00:00:00\n",
      "Data columns (total 1 columns):\n",
      "water_lev    260153 non-null float64\n",
      "dtypes: float64(1)\n",
      "memory usage: 4.0 MB\n"
     ]
    }
   ],
   "source": [
    "wl_data_list_test.info()"
   ]
  },
  {
   "cell_type": "code",
   "execution_count": null,
   "metadata": {},
   "outputs": [],
   "source": []
  }
 ],
 "metadata": {
  "kernelspec": {
   "display_name": "Python 3",
   "language": "python",
   "name": "python3"
  },
  "language_info": {
   "codemirror_mode": {
    "name": "ipython",
    "version": 3
   },
   "file_extension": ".py",
   "mimetype": "text/x-python",
   "name": "python",
   "nbconvert_exporter": "python",
   "pygments_lexer": "ipython3",
   "version": "3.7.1"
  },
  "toc": {
   "base_numbering": 1,
   "nav_menu": {},
   "number_sections": true,
   "sideBar": true,
   "skip_h1_title": false,
   "title_cell": "Table of Contents",
   "title_sidebar": "Contents",
   "toc_cell": false,
   "toc_position": {},
   "toc_section_display": true,
   "toc_window_display": false
  },
  "varInspector": {
   "cols": {
    "lenName": 16,
    "lenType": 16,
    "lenVar": 40
   },
   "kernels_config": {
    "python": {
     "delete_cmd_postfix": "",
     "delete_cmd_prefix": "del ",
     "library": "var_list.py",
     "varRefreshCmd": "print(var_dic_list())"
    },
    "r": {
     "delete_cmd_postfix": ") ",
     "delete_cmd_prefix": "rm(",
     "library": "var_list.r",
     "varRefreshCmd": "cat(var_dic_list()) "
    }
   },
   "types_to_exclude": [
    "module",
    "function",
    "builtin_function_or_method",
    "instance",
    "_Feature"
   ],
   "window_display": false
  }
 },
 "nbformat": 4,
 "nbformat_minor": 2
}
